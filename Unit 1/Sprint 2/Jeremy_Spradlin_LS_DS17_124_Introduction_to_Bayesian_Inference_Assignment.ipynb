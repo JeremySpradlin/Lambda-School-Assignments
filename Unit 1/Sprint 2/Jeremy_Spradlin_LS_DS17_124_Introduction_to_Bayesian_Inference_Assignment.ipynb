{
  "nbformat": 4,
  "nbformat_minor": 0,
  "metadata": {
    "colab": {
      "name": "Jeremy Spradlin LS_DS17_124_Introduction_to_Bayesian_Inference_Assignment.ipynb",
      "provenance": [],
      "collapsed_sections": []
    },
    "kernelspec": {
      "name": "python3",
      "display_name": "Python 3"
    }
  },
  "cells": [
    {
      "cell_type": "markdown",
      "metadata": {
        "id": "H7OLbevlbd_Z"
      },
      "source": [
        "# Lambda School Data Science Module 124\n",
        "\n",
        "## Introduction to Bayesian Inference\n",
        "\n",
        "\n"
      ]
    },
    {
      "cell_type": "markdown",
      "metadata": {
        "id": "P-DzzRk5bf0z"
      },
      "source": [
        "## Assignment - Code it up!\n",
        "\n",
        "We used pure math to apply Bayes Theorem to drug tests. Now write Python code to reproduce the results! This is purposefully open ended - you'll have to think about how you should represent probabilities and events. You can and should look things up.\n",
        "\n",
        "Specific goals/targets:\n",
        "\n",
        "### 1) Write a function \n",
        "\n",
        "`def prob_drunk_given_positive(prob_drunk_prior, false_positive_rate, true_positive_rate):` \n",
        "\n",
        "You should only truly need these three values in order to apply Bayes Theorem. In this example, imagine that individuals are taking a breathalyzer test with an 8% false positive rate, a 100% true positive rate, and that our prior belief about drunk driving in the population is 1/1000. \n",
        " - What is the probability that a person is drunk after one positive breathalyzer test?\n",
        " - What is the probability that a person is drunk after two positive breathalyzer tests?\n",
        " - How many positive breathalyzer tests are needed in order to have a probability that's greater than 95% that a person is drunk beyond the legal limit?\n"
      ]
    },
    {
      "cell_type": "code",
      "metadata": {
        "id": "cD6zh6koZsmg"
      },
      "source": [
        "# TODO - code!\n",
        "#True Positive Rate\n",
        "#true_positive_rate = 1.0\n",
        "#Prior Probablity\n",
        "#p_drunk = 1/1000\n",
        "#False Positive Rate\n",
        "#False_positive_rate = .08\n",
        "#Complement Prior\n",
        "#prob_drunk_prior = 1-p_drunk\n",
        "\n",
        "\n",
        "\n",
        "#numerator = true_positive_rate * p_drunk\n",
        "#denominator = true_positive_rate * p_drunk + false_positive_rate * prob_drunk_prior\n",
        "\n",
        "#posterior_probability = numerator / denominator\n",
        "\n",
        "#posterior_probability"
      ],
      "execution_count": null,
      "outputs": []
    },
    {
      "cell_type": "code",
      "metadata": {
        "id": "I-FHSUICLDTc"
      },
      "source": [
        "def prob_drunk_given_positive(prob_drunk_prior, false_positive_rate, true_positive_rate):\n",
        "  prob_not_drunk = 1 - prob_drunk_prior\n",
        "\n",
        "  numerator = true_positive_rate * prob_drunk_prior\n",
        "  denominator = (true_positive_rate * prob_drunk_prior) + (false_positive_rate * prob_not_drunk)\n",
        "  \n",
        "  posterior_probability = numerator / denominator\n",
        "  return posterior_probability\n"
      ],
      "execution_count": null,
      "outputs": []
    },
    {
      "cell_type": "code",
      "metadata": {
        "id": "xzIk9napZZFG",
        "outputId": "b0f5423a-8697-4678-e511-46df9d97d239",
        "colab": {
          "base_uri": "https://localhost:8080/",
          "height": 34
        }
      },
      "source": [
        "results = prob_drunk_given_positive(1/1000, .08, 1)\n",
        "print(results)"
      ],
      "execution_count": null,
      "outputs": [
        {
          "output_type": "stream",
          "text": [
            "0.012357884330202669\n"
          ],
          "name": "stdout"
        }
      ]
    },
    {
      "cell_type": "code",
      "metadata": {
        "id": "nugcSBbQY5Kc",
        "outputId": "09a1994e-2276-4841-9792-406105b13ec4",
        "colab": {
          "base_uri": "https://localhost:8080/",
          "height": 34
        }
      },
      "source": [
        "results = prob_drunk_given_positive(results, false_positive_rate, true_positive_rate)\n",
        "print(results)"
      ],
      "execution_count": null,
      "outputs": [
        {
          "output_type": "stream",
          "text": [
            "0.5028585632612479\n"
          ],
          "name": "stdout"
        }
      ]
    },
    {
      "cell_type": "code",
      "metadata": {
        "id": "TdsxBaLhc2It",
        "outputId": "fcc87139-380d-46f3-e152-45f90b9dc091",
        "colab": {
          "base_uri": "https://localhost:8080/",
          "height": 85
        }
      },
      "source": [
        "p_drunk = 1/1000\n",
        "\n",
        "while p_drunk <= .95:\n",
        "  p_drunk = prob_drunk_given_positive(p_drunk, .08, 1)\n",
        "  print(p_drunk)"
      ],
      "execution_count": null,
      "outputs": [
        {
          "output_type": "stream",
          "text": [
            "0.012357884330202669\n",
            "0.13525210993291495\n",
            "0.6615996951348605\n",
            "0.9606895076105054\n"
          ],
          "name": "stdout"
        }
      ]
    },
    {
      "cell_type": "markdown",
      "metadata": {
        "id": "iUow1mrAlu_a"
      },
      "source": [
        "**1) What is the probability that a person is drunk after one positive breathalyzer test?**\n",
        "\n",
        "1.2%\n",
        "\n",
        "**2) What is the probability that a person is drunk after two positive breathalyzer tests?**\n",
        "\n",
        "13.5%\n",
        "\n",
        "**3) How many positive breathalyzer tests are needed in order to have a probability that's greater than 95% that a person is drunk beyond the legal limit?**\n",
        "\n",
        "4 tests are needed."
      ]
    },
    {
      "cell_type": "markdown",
      "metadata": {
        "id": "nhOAsLjvCSLF"
      },
      "source": [
        "### 2) In your own words, summarize the difference between Bayesian and Frequentist statistics\n",
        "\n",
        "If you're unsure where to start, check out [this blog post of Bayes theorem with Python](https://dataconomy.com/2015/02/introduction-to-bayes-theorem-with-python/)."
      ]
    },
    {
      "cell_type": "markdown",
      "metadata": {
        "id": "AADlIVfgDztY"
      },
      "source": [
        "Frequentists statistics looks at the probability of something without including any information other than the particular something we are trying to determine the probability of.  \n",
        "\n",
        "Bayesian statistics also includes prior propabilities from previous observations in its calculations. "
      ]
    },
    {
      "cell_type": "markdown",
      "metadata": {
        "id": "AeAGBxWjCTv3"
      },
      "source": [
        "### 3) Use the following Template to help come up with ideas for your Build Sprint Project: \n",
        "\n"
      ]
    },
    {
      "cell_type": "markdown",
      "metadata": {
        "id": "YgIaBr__C5Q2"
      },
      "source": [
        "---\n",
        "\n",
        "## Idea 1:  "
      ]
    },
    {
      "cell_type": "markdown",
      "metadata": {
        "id": "MwR6hTB1CiLR"
      },
      "source": [
        "### You\n",
        "**What do you care about?**  Social Media\n",
        "\n",
        "**What do you know about?**  Social Media\n",
        "\n",
        "**What decisions do you face?** How, or if to use social media.\n",
        "\n",
        "\n"
      ]
    },
    {
      "cell_type": "markdown",
      "metadata": {
        "id": "d5owPwlSClm2"
      },
      "source": [
        ""
      ]
    },
    {
      "cell_type": "markdown",
      "metadata": {
        "id": "lorLHSkzClzC"
      },
      "source": [
        "### Seven templates\n",
        "Training Kit (https://learn.lambdaschool.com/ds/module/recedjanlbpqxic2r) explains the seven templates from Priceonomics.\n",
        "\n",
        "Can you apply the templates to your topics?\n",
        "\n",
        "**Geographic Variation:** Yes, I could look at how social media usage varies between different geographic locations\n",
        "\n",
        "**Trend related to the news:** Social media and the news often seem to feed each other in their trends.\n",
        "\n",
        "**Who does that?:**. Who uses what social media and how do they use it?\n",
        "\n",
        "**Answering a question people care about:** Is social media usage bad for kids?\n",
        "\n",
        "**Valuable to businesses:** How can using social media for marketing effect ROI?\n",
        "\n",
        "**What's the most popular?:** what social media is used the most?\n",
        "\n",
        "**Cost/Money rankings:** which sites make the most money, and why?"
      ]
    },
    {
      "cell_type": "markdown",
      "metadata": {
        "id": "cjxeN9D7Cygt"
      },
      "source": [
        ""
      ]
    },
    {
      "cell_type": "markdown",
      "metadata": {
        "id": "3OXCCIT6C_p0"
      },
      "source": [
        "### Misconceptions\n",
        "\n",
        "What misconceptions do people have about your topic?"
      ]
    },
    {
      "cell_type": "markdown",
      "metadata": {
        "id": "kZAkrgTUDCjF"
      },
      "source": [
        "That social media is just a tool for connecting with other people."
      ]
    },
    {
      "cell_type": "markdown",
      "metadata": {
        "id": "3tNrndE9DD3-"
      },
      "source": [
        "### Examples\n",
        "\n",
        "What data storytelling example inspires you?\n",
        "\n",
        "Could you do a new hypothesis, for the same question?\n",
        "\n",
        "Could you do a new question, for the same topic?\n",
        "\n",
        "Could you do a new topic, with the same \"style\"?"
      ]
    },
    {
      "cell_type": "markdown",
      "metadata": {
        "id": "-5NsWQy5DKoR"
      },
      "source": [
        "1) The first stat storytelling example that got me really into data science was a visual presentation (Youtube video)  on how divided congressional votes have become over the last 50 years.  https://www.youtube.com/watch?v=tEczkhfLwqM\n",
        "\n",
        "2) Yes, comparing the data to other data sets to try and establish possible causality.\n",
        "\n",
        "3) Yes, what is the correlation between the polarization observed in the voting record and polarization in our media?\n",
        "\n",
        "4) Yes, you could compare a connection between any two groups over time using this visualization method.  "
      ]
    },
    {
      "cell_type": "markdown",
      "metadata": {
        "id": "9rPtMFB6DN7B"
      },
      "source": [
        "###Data\n",
        "\n",
        "Where could you search for data about your topic?"
      ]
    },
    {
      "cell_type": "markdown",
      "metadata": {
        "id": "s9hqjOlhDTDa"
      },
      "source": [
        "Social Media studies are fairly common, and there are likely several available datasets already out there that I could play around with.  "
      ]
    },
    {
      "cell_type": "markdown",
      "metadata": {
        "id": "ld5MOaFaDVSK"
      },
      "source": [
        "---\n",
        "\n",
        "## Idea 2:"
      ]
    },
    {
      "cell_type": "markdown",
      "metadata": {
        "id": "znhTWIlUDVSM"
      },
      "source": [
        "### You\n",
        "What do you care about? Music\n",
        "\n",
        "What do you know about?  Music\u0010?\n",
        "\n",
        "What decisions do you face?  What kinda music to play?\n",
        "\n"
      ]
    },
    {
      "cell_type": "markdown",
      "metadata": {
        "id": "3Gln5mYeDVSM"
      },
      "source": [
        ""
      ]
    },
    {
      "cell_type": "markdown",
      "metadata": {
        "id": "W-njBredDVSN"
      },
      "source": [
        "### Seven templates\n",
        "Training Kit (https://learn.lambdaschool.com/ds/module/recedjanlbpqxic2r) explains the seven templates from Priceonomics.\n",
        "\n",
        "Can you apply the templates to your topics?\n",
        "\n",
        "**Geographic Variation:** What kind of music is most popular in different geographic locations?\n",
        "\n",
        "**Trend related to the news:** How does news about artists drive record sales?\n",
        "\n",
        "**Who does that?:** Who learns how to play music?\n",
        "\n",
        "**Answering a question people care about:** Can music effect our mood?\n",
        "\n",
        "**Valuable to businesses:** How can music effect marketing?\n",
        "\n",
        "**What's the most popular?:** Look at streaming numbers \n",
        "\n",
        "**Cost/Money rankings:**. Which artists make the most money?"
      ]
    },
    {
      "cell_type": "markdown",
      "metadata": {
        "id": "njLQ3hLuDVSO"
      },
      "source": [
        "### Misconceptions\n",
        "\n",
        "What misconceptions do people have about your topic?  Most misconceptions are mostly about the industry."
      ]
    },
    {
      "cell_type": "markdown",
      "metadata": {
        "id": "L0X6X5WaDVSP"
      },
      "source": [
        "### Examples\n",
        "\n",
        "What data storytelling example inspires you? \n",
        "\n",
        "Could you do a new hypothesis, for the same question?\n",
        "\n",
        "Could you do a new question, for the same topic?\n",
        "\n",
        "Could you do a new topic, with the same \"style\"?"
      ]
    },
    {
      "cell_type": "markdown",
      "metadata": {
        "id": "fDdHExa0DVSP"
      },
      "source": [
        ""
      ]
    },
    {
      "cell_type": "markdown",
      "metadata": {
        "id": "uWgWjp3PQ3Sq"
      },
      "source": [
        "## Resources"
      ]
    },
    {
      "cell_type": "markdown",
      "metadata": {
        "id": "QRgHqmYIQ9qn"
      },
      "source": [
        "- [Worked example of Bayes rule calculation](https://en.wikipedia.org/wiki/Bayes'_theorem#Examples) (helpful as it fully breaks out the denominator)\n",
        "- [Source code for mvsdist in scipy](https://github.com/scipy/scipy/blob/90534919e139d2a81c24bf08341734ff41a3db12/scipy/stats/morestats.py#L139)"
      ]
    },
    {
      "cell_type": "markdown",
      "metadata": {
        "id": "GP7Jv1XvwtkX"
      },
      "source": [
        "## Stretch Goals:\n",
        "\n",
        "- Go back and study the content from Modules 1 & 2 & 3 to make sure that you're really comfortable with them.\n",
        "- Apply a Bayesian technique to a problem you previously worked (in an assignment or project work) on from a frequentist (standard) perspective\n",
        "- Check out [PyMC3](https://docs.pymc.io/) (note this goes beyond hypothesis tests into modeling) - read the guides and work through some examples\n",
        "- Take PyMC3 further - see if you can build something with it!"
      ]
    }
  ]
}