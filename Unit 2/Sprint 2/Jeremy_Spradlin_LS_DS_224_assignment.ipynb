{
  "nbformat": 4,
  "nbformat_minor": 0,
  "metadata": {
    "kernelspec": {
      "display_name": "Python 3",
      "language": "python",
      "name": "python3"
    },
    "language_info": {
      "codemirror_mode": {
        "name": "ipython",
        "version": 3
      },
      "file_extension": ".py",
      "mimetype": "text/x-python",
      "name": "python",
      "nbconvert_exporter": "python",
      "pygments_lexer": "ipython3",
      "version": "3.7.3"
    },
    "colab": {
      "name": "Jeremy Spradlin LS_DS_224_assignment.ipynb",
      "provenance": []
    }
  },
  "cells": [
    {
      "cell_type": "markdown",
      "metadata": {
        "id": "PnHp234tx4ya"
      },
      "source": [
        "Lambda School Data Science\n",
        "\n",
        "*Unit 2, Sprint 2, Module 4*\n",
        "\n",
        "---"
      ]
    },
    {
      "cell_type": "markdown",
      "metadata": {
        "id": "nCc3XZEyG3XV"
      },
      "source": [
        "# Classification Metrics\n",
        "\n",
        "## Assignment\n",
        "- [ ] If you haven't yet, [review requirements for your portfolio project](https://lambdaschool.github.io/ds/unit2), then submit your dataset.\n",
        "- [ ] Plot a confusion matrix for your Tanzania Waterpumps model.\n",
        "- [ ] Continue to participate in our Kaggle challenge. Every student should have made at least one submission that scores at least 70% accuracy (well above the majority class baseline).\n",
        "- [ ] Submit your final predictions to our Kaggle competition. Optionally, go to **My Submissions**, and _\"you may select up to 1 submission to be used to count towards your final leaderboard score.\"_\n",
        "- [ ] Commit your notebook to your fork of the GitHub repo.\n",
        "- [ ] Read [Maximizing Scarce Maintenance Resources with Data: Applying predictive modeling, precision at k, and clustering to optimize impact](http://archive.is/DelgE), by Lambda DS3 student Michael Brady. His blog post extends the Tanzania Waterpumps scenario, far beyond what's in the lecture notebook.\n",
        "\n",
        "\n",
        "## Stretch Goals\n",
        "\n",
        "### Reading\n",
        "\n",
        "- [Attacking discrimination with smarter machine learning](https://research.google.com/bigpicture/attacking-discrimination-in-ml/), by Google Research, with  interactive visualizations. _\"A threshold classifier essentially makes a yes/no decision, putting things in one category or another. We look at how these classifiers work, ways they can potentially be unfair, and how you might turn an unfair classifier into a fairer one. As an illustrative example, we focus on loan granting scenarios where a bank may grant or deny a loan based on a single, automatically computed number such as a credit score.\"_\n",
        "- [Notebook about how to calculate expected value from a confusion matrix by treating it as a cost-benefit matrix](https://github.com/podopie/DAT18NYC/blob/master/classes/13-expected_value_cost_benefit_analysis.ipynb)\n",
        "- [Visualizing Machine Learning Thresholds to Make Better Business Decisions](https://blog.insightdatascience.com/visualizing-machine-learning-thresholds-to-make-better-business-decisions-4ab07f823415)\n",
        "\n",
        "\n",
        "### Doing\n",
        "- [ ] Share visualizations in our Slack channel!\n",
        "- [ ] RandomizedSearchCV / GridSearchCV, for model selection. (See module 3 assignment notebook)\n",
        "- [ ] Stacking Ensemble. (See module 3 assignment notebook)\n",
        "- [ ] More Categorical Encoding. (See module 2 assignment notebook)"
      ]
    },
    {
      "cell_type": "code",
      "metadata": {
        "id": "lsbRiKBoB5RE"
      },
      "source": [
        "%%capture\n",
        "import sys\n",
        "\n",
        "# If you're on Colab:\n",
        "if 'google.colab' in sys.modules:\n",
        "    DATA_PATH = 'https://raw.githubusercontent.com/LambdaSchool/DS-Unit-2-Kaggle-Challenge/master/data/'\n",
        "    !pip install category_encoders==2.*\n",
        "\n",
        "# If you're working locally:\n",
        "else:\n",
        "    DATA_PATH = '../data/'"
      ],
      "execution_count": null,
      "outputs": []
    },
    {
      "cell_type": "code",
      "metadata": {
        "id": "BVA1lph8CcNX"
      },
      "source": [
        "import pandas as pd\n",
        "\n",
        "# Merge train_features.csv & train_labels.csv\n",
        "train = pd.merge(pd.read_csv(DATA_PATH+'waterpumps/train_features.csv'), \n",
        "                 pd.read_csv(DATA_PATH+'waterpumps/train_labels.csv'))\n",
        "\n",
        "# Read test_features.csv & sample_submission.csv\n",
        "test = pd.read_csv(DATA_PATH+'waterpumps/test_features.csv')\n",
        "sample_submission = pd.read_csv(DATA_PATH+'waterpumps/sample_submission.csv')"
      ],
      "execution_count": null,
      "outputs": []
    },
    {
      "cell_type": "markdown",
      "metadata": {
        "id": "SUL1WQ5x3Bqv"
      },
      "source": [
        "# Imports"
      ]
    },
    {
      "cell_type": "code",
      "metadata": {
        "id": "hp3JEKmd3Da5",
        "colab": {
          "base_uri": "https://localhost:8080/",
          "height": 51
        },
        "outputId": "a1b0a10b-bf84-4800-f66c-f3ae7dd1346c"
      },
      "source": [
        "#Imports\n",
        "%matplotlib inline\n",
        "from pandas_profiling import ProfileReport\n",
        "\n",
        "from sklearn.model_selection import train_test_split, GridSearchCV, RandomizedSearchCV\n",
        "from sklearn.pipeline import make_pipeline\n",
        "from sklearn.impute import SimpleImputer\n",
        "from sklearn.preprocessing import StandardScaler, FunctionTransformer\n",
        "from sklearn.ensemble import RandomForestClassifier\n",
        "from sklearn.feature_selection import SelectKBest, f_regression\n",
        "from sklearn.metrics import plot_confusion_matrix, classification_report, accuracy_score\n",
        "\n",
        "from category_encoders import OneHotEncoder, OrdinalEncoder, TargetEncoder\n",
        "\n",
        "import numpy as np\n",
        "from scipy.stats import randint, uniform\n",
        "import matplotlib as plt"
      ],
      "execution_count": null,
      "outputs": [
        {
          "output_type": "stream",
          "text": [
            "/usr/local/lib/python3.6/dist-packages/statsmodels/tools/_testing.py:19: FutureWarning: pandas.util.testing is deprecated. Use the functions in the public API at pandas.testing instead.\n",
            "  import pandas.util.testing as tm\n"
          ],
          "name": "stderr"
        }
      ]
    },
    {
      "cell_type": "markdown",
      "metadata": {
        "id": "5bGmEFhKx4yy"
      },
      "source": [
        "# Train-Validate-Test Split"
      ]
    },
    {
      "cell_type": "code",
      "metadata": {
        "id": "mv_J6kiV2-qI",
        "colab": {
          "base_uri": "https://localhost:8080/",
          "height": 34
        },
        "outputId": "449196b8-25d7-48fa-e4b5-ecdcd8d767e9"
      },
      "source": [
        "#Perform our train/test/split on the data\n",
        "train, val  = train_test_split(train, train_size=0.8, test_size=0.2, stratify=train['status_group'], random_state=42)\n",
        "train.shape, val.shape, test.shape"
      ],
      "execution_count": null,
      "outputs": [
        {
          "output_type": "execute_result",
          "data": {
            "text/plain": [
              "((47520, 41), (11880, 41), (14358, 40))"
            ]
          },
          "metadata": {
            "tags": []
          },
          "execution_count": 4
        }
      ]
    },
    {
      "cell_type": "markdown",
      "metadata": {
        "id": "Jl3ACZeH3AZX"
      },
      "source": [
        "# Baseline"
      ]
    },
    {
      "cell_type": "code",
      "metadata": {
        "id": "l5q2AGHq3JzA",
        "colab": {
          "base_uri": "https://localhost:8080/",
          "height": 85
        },
        "outputId": "71160045-0486-4c44-df6d-e8dc6b6a762a"
      },
      "source": [
        "train['status_group'].value_counts()"
      ],
      "execution_count": null,
      "outputs": [
        {
          "output_type": "execute_result",
          "data": {
            "text/plain": [
              "functional                 25807\n",
              "non functional             18259\n",
              "functional needs repair     3454\n",
              "Name: status_group, dtype: int64"
            ]
          },
          "metadata": {
            "tags": []
          },
          "execution_count": 5
        }
      ]
    },
    {
      "cell_type": "code",
      "metadata": {
        "id": "yZCU-Eet3Lwq",
        "colab": {
          "base_uri": "https://localhost:8080/",
          "height": 34
        },
        "outputId": "f458e8ea-de61-407a-86bb-08a423a54324"
      },
      "source": [
        "baseline = (25807 / (25807 + 18259 + 3454))\n",
        "\n",
        "print('Our naive baseline is: ', baseline)"
      ],
      "execution_count": null,
      "outputs": [
        {
          "output_type": "stream",
          "text": [
            "Our naive baseline is:  0.5430765993265994\n"
          ],
          "name": "stdout"
        }
      ]
    },
    {
      "cell_type": "markdown",
      "metadata": {
        "id": "TPk_3mMA3OxW"
      },
      "source": [
        "# Wrangle Data Function"
      ]
    },
    {
      "cell_type": "code",
      "metadata": {
        "id": "4fkfbVmx3S5a"
      },
      "source": [
        "#Create a function to wrangle our data by fixing the null island values in the geo data as well as \n",
        "#remove any redundant columns\n",
        "def wrangle_data(X):\n",
        "  \"\"\"Function for wrangling all of our data sets in the same manner\"\"\"\n",
        "\n",
        "  #Prevent a SettingWithCopyWarning\n",
        "  X = X.copy()\n",
        "\n",
        "  #Replace the near-0 values in latitude with 0's for easier handling\n",
        "  X['latitude'] = X['latitude'].replace(-2e-08, 0)\n",
        "\n",
        "  #Now we will replace the 0's with null values for easier handling\n",
        "  cols_with_zeros = ['longitude', 'latitude', 'construction_year',\n",
        "                     'gps_height', 'population']\n",
        "  for col in cols_with_zeros:\n",
        "    X[col] = X[col].replace(0, np.nan)\n",
        "    X[col+'_MISSING'] = X[col].isnull()\n",
        "\n",
        "  #Drop redundant or non-useful columns\n",
        "  red_cols = ['quantity_group', 'payment_type', 'recorded_by', 'id']\n",
        "  X = X.drop(columns=red_cols)\n",
        "\n",
        "  #Convert date_recorded to a datetime object\n",
        "  X['date_recorded'] = pd.to_datetime(X['date_recorded'], infer_datetime_format = True)\n",
        "\n",
        "  #Extract the date elements and then drop the original date/time column\n",
        "  X['year_recorded'] = X['date_recorded'].dt.year\n",
        "  X['month_recorded'] = X['date_recorded'].dt.month\n",
        "  X['day_recorded'] = X['date_recorded'].dt.day\n",
        "  X = X.drop(columns='date_recorded')\n",
        "\n",
        "  #Engineering new features\n",
        "  X['years'] = X['year_recorded'] - X['construction_year']\n",
        "  X['years_MISSING'] = X['years'].isnull()\n",
        "\n",
        "  #Return the wrangled dataframe\n",
        "  return X\n"
      ],
      "execution_count": null,
      "outputs": []
    },
    {
      "cell_type": "code",
      "metadata": {
        "id": "eSMhAxHo58zp"
      },
      "source": [
        "#Create a function that will select our features and control for high cardinality\n",
        "\n",
        "def create_features(X):\n",
        "  \n",
        "  #Create our target\n",
        "  target = 'status_group'\n",
        "\n",
        "  #Strip out the targed and id columns\n",
        "  train_features = train.drop(columns=[target])\n",
        "\n",
        "  #Get a list of the numeric features\n",
        "  numeric_features = train_features.select_dtypes(include='number').columns.tolist()\n",
        "\n",
        "  #Get a series with the cardinality of the nonnumeric features\n",
        "  cardinality = train_features.select_dtypes(exclude='number').nunique()\n",
        "\n",
        "  #Create a list of all nonnumeric features with a cardinality less than 50\n",
        "  categorical_features = cardinality[cardinality <= 50].index.tolist()\n",
        "\n",
        "  #Combine the lists\n",
        "  features = numeric_features + categorical_features\n",
        "\n",
        "  return features\n",
        "\n"
      ],
      "execution_count": null,
      "outputs": []
    },
    {
      "cell_type": "code",
      "metadata": {
        "id": "_EATCTCD7lsj",
        "colab": {
          "base_uri": "https://localhost:8080/",
          "height": 34
        },
        "outputId": "6eb869e5-5791-4df0-bebe-c44c3e831277"
      },
      "source": [
        "#Create our features and perform the final split on our data into Feature matrices and target vectors\n",
        "target = 'status_group'\n",
        "features = create_features(train)\n",
        "\n",
        "X_train = train.drop(columns=target)\n",
        "y_train = train[target]\n",
        "X_val = val.drop(columns=target)\n",
        "y_val = val[target]\n",
        "X_test = test\n",
        "\n",
        "X_train.shape, y_train.shape, X_val.shape, y_val.shape, X_test.shape, y_val.shape"
      ],
      "execution_count": null,
      "outputs": [
        {
          "output_type": "execute_result",
          "data": {
            "text/plain": [
              "((47520, 40), (47520,), (11880, 40), (11880,), (14358, 40), (11880,))"
            ]
          },
          "metadata": {
            "tags": []
          },
          "execution_count": 9
        }
      ]
    },
    {
      "cell_type": "markdown",
      "metadata": {
        "id": "L70YWkN-8ZMk"
      },
      "source": [
        "# Create our pipeline"
      ]
    },
    {
      "cell_type": "code",
      "metadata": {
        "id": "xMa7ztRs8zia"
      },
      "source": [
        "#Make our pipeline\n",
        "\n",
        "model = make_pipeline(\n",
        "    FunctionTransformer(wrangle_data, validate=False),\n",
        "    OrdinalEncoder(),\n",
        "    SimpleImputer(strategy='mean'),\n",
        "    RandomForestClassifier(criterion='entropy', max_depth=50, n_estimators=200, min_samples_leaf=1, random_state=42)\n",
        ")"
      ],
      "execution_count": null,
      "outputs": []
    },
    {
      "cell_type": "code",
      "metadata": {
        "id": "H3xdS9kW9neB",
        "colab": {
          "base_uri": "https://localhost:8080/",
          "height": 85
        },
        "outputId": "7cad9fa4-970a-4f89-a3f1-69c638094775"
      },
      "source": [
        "#Fit the data to our model\n",
        "%%time\n",
        "\n",
        "model.fit(X_train, y_train)\n",
        "print('training accuracy:', model.score(X_train, y_train))\n",
        "print('validation accuracy:', model.score(X_val, y_val))"
      ],
      "execution_count": null,
      "outputs": [
        {
          "output_type": "stream",
          "text": [
            "training accuracy: 0.9999789562289563\n",
            "validation accuracy: 0.8132154882154882\n",
            "CPU times: user 40 s, sys: 470 ms, total: 40.4 s\n",
            "Wall time: 40.5 s\n"
          ],
          "name": "stdout"
        }
      ]
    },
    {
      "cell_type": "markdown",
      "metadata": {
        "id": "M49aaPbS93ZJ"
      },
      "source": [
        "# Confusion matrix"
      ]
    },
    {
      "cell_type": "code",
      "metadata": {
        "id": "TqBpJVT5KteG",
        "colab": {
          "base_uri": "https://localhost:8080/",
          "height": 34
        },
        "outputId": "053c9e05-4aca-49a9-d8d6-e848639721fe"
      },
      "source": [
        "y_pred = model.predict(X_val)\n",
        "print('Validation Accuracy: ', accuracy_score(y_val, y_pred))"
      ],
      "execution_count": null,
      "outputs": [
        {
          "output_type": "stream",
          "text": [
            "Validation Accuracy:  0.8132154882154882\n"
          ],
          "name": "stdout"
        }
      ]
    },
    {
      "cell_type": "code",
      "metadata": {
        "id": "LClRZnOsDomc",
        "colab": {
          "base_uri": "https://localhost:8080/",
          "height": 34
        },
        "outputId": "6abc10ba-4e36-437d-b70f-ba57b9b65e9e"
      },
      "source": [
        "#Create our confusion matrix on our validation data\n",
        "\n",
        "plt.rcParams['figure.dpi'] = 125\n",
        "\n",
        "plot_confusion_matrix(model, X_val, y_val, values_format='.0f', xticks_rotation='vertical')\n"
      ],
      "execution_count": null,
      "outputs": [
        {
          "output_type": "execute_result",
          "data": {
            "text/plain": [
              "<sklearn.metrics._plot.confusion_matrix.ConfusionMatrixDisplay at 0x7f3700342c50>"
            ]
          },
          "metadata": {
            "tags": []
          },
          "execution_count": 13
        }
      ]
    },
    {
      "cell_type": "markdown",
      "metadata": {
        "id": "-dQxNfviJFhx"
      },
      "source": [
        "# Stretch Goals\n",
        "\n",
        "Below will be our stretch goals: \n",
        "\n",
        "- Using a grid search to determine the best hyperparameters for use in our model.\n",
        "- Stacking Ensemble\n",
        "- More? Categorical Encoding\n",
        "- Create visuals to share on Slack"
      ]
    },
    {
      "cell_type": "code",
      "metadata": {
        "id": "0WnBmrQdyBzE"
      },
      "source": [
        "#Create a new pipeline to work with on grid search\n",
        "model = make_pipeline(\n",
        "    FunctionTransformer(wrangle_data, validate=False),\n",
        "    OrdinalEncoder(),\n",
        "    SimpleImputer(strategy='mean'),\n",
        "    StandardScaler(),\n",
        "    RandomForestClassifier(criterion='entropy', random_state=42)\n",
        ")\n",
        "\n",
        "#Stored static variables below:\n",
        "#, max_depth=50, n_estimators=200, min_samples_leaf=1, random_state=42"
      ],
      "execution_count": null,
      "outputs": []
    },
    {
      "cell_type": "code",
      "metadata": {
        "id": "s8T9rSu7YyHh"
      },
      "source": [
        "#Create and use our grid search\n",
        "#Create our param_dist to use for searching\n",
        "param_dist = {\n",
        "    'randomforestclassifier__n_estimators': [300],\n",
        "    'randomforestclassifier__max_depth': [20], \n",
        "    'randomforestclassifier__max_features': [.25],\n",
        "    'randomforestclassifier__min_samples_split': [2],\n",
        "    'randomforestclassifier__min_samples_leaf': [2]\n",
        "}"
      ],
      "execution_count": null,
      "outputs": []
    },
    {
      "cell_type": "code",
      "metadata": {
        "id": "azQchlPuZNpo"
      },
      "source": [
        "search = GridSearchCV(\n",
        "    model,\n",
        "    param_grid=param_dist,\n",
        "    cv=3,\n",
        "    scoring='accuracy',\n",
        "    verbose=10,\n",
        "    return_train_score=True,\n",
        "    n_jobs=-1\n",
        ")"
      ],
      "execution_count": null,
      "outputs": []
    },
    {
      "cell_type": "code",
      "metadata": {
        "id": "SVAIFnJFa2eg",
        "colab": {
          "base_uri": "https://localhost:8080/",
          "height": 510
        },
        "outputId": "6349f6ea-5cf1-47f2-9ee2-af4d94df540b"
      },
      "source": [
        "search.fit(X_train, y_train)"
      ],
      "execution_count": null,
      "outputs": [
        {
          "output_type": "stream",
          "text": [
            "Fitting 3 folds for each of 5 candidates, totalling 15 fits\n"
          ],
          "name": "stdout"
        },
        {
          "output_type": "stream",
          "text": [
            "[Parallel(n_jobs=-1)]: Using backend LokyBackend with 2 concurrent workers.\n",
            "[Parallel(n_jobs=-1)]: Done   1 tasks      | elapsed:  1.5min\n",
            "[Parallel(n_jobs=-1)]: Done   4 tasks      | elapsed:  3.0min\n",
            "[Parallel(n_jobs=-1)]: Done   9 tasks      | elapsed:  7.1min\n",
            "[Parallel(n_jobs=-1)]: Done  15 out of  15 | elapsed: 10.7min finished\n"
          ],
          "name": "stderr"
        },
        {
          "output_type": "execute_result",
          "data": {
            "text/plain": [
              "GridSearchCV(cv=3, error_score=nan,\n",
              "             estimator=Pipeline(memory=None,\n",
              "                                steps=[('functiontransformer',\n",
              "                                        FunctionTransformer(accept_sparse=False,\n",
              "                                                            check_inverse=True,\n",
              "                                                            func=<function wrangle_data at 0x7f36ffdf79d8>,\n",
              "                                                            inv_kw_args=None,\n",
              "                                                            inverse_func=None,\n",
              "                                                            kw_args=None,\n",
              "                                                            validate=False)),\n",
              "                                       ('ordinalencoder',\n",
              "                                        OrdinalEncoder(cols=None,\n",
              "                                                       drop_invariant=False,\n",
              "                                                       handle_missing='value',...\n",
              "             iid='deprecated', n_jobs=-1,\n",
              "             param_grid={'randomforestclassifier__max_depth': [20],\n",
              "                         'randomforestclassifier__max_features': [0.25],\n",
              "                         'randomforestclassifier__min_samples_leaf': [1, 2, 3,\n",
              "                                                                      4, 5],\n",
              "                         'randomforestclassifier__min_samples_split': [2],\n",
              "                         'randomforestclassifier__n_estimators': [300]},\n",
              "             pre_dispatch='2*n_jobs', refit=True, return_train_score=True,\n",
              "             scoring='accuracy', verbose=10)"
            ]
          },
          "metadata": {
            "tags": []
          },
          "execution_count": 80
        }
      ]
    },
    {
      "cell_type": "code",
      "metadata": {
        "id": "esQuUQRBbZ27",
        "colab": {
          "base_uri": "https://localhost:8080/",
          "height": 51
        },
        "outputId": "fe376dce-e508-4e26-bbdc-3092901b1501"
      },
      "source": [
        "print('training accuracy:', search.score(X_train, y_train))\n",
        "print('validation accuracy:', search.score(X_val, y_val))"
      ],
      "execution_count": null,
      "outputs": [
        {
          "output_type": "stream",
          "text": [
            "training accuracy: 0.9400042087542088\n",
            "validation accuracy: 0.8131313131313131\n"
          ],
          "name": "stdout"
        }
      ]
    },
    {
      "cell_type": "code",
      "metadata": {
        "id": "6ZiU8mw-6MRU",
        "colab": {
          "base_uri": "https://localhost:8080/",
          "height": 391
        },
        "outputId": "0b3d5810-5b03-437d-907e-d1cfa7699937"
      },
      "source": [
        "print(search.best_estimator_)"
      ],
      "execution_count": null,
      "outputs": [
        {
          "output_type": "stream",
          "text": [
            "Pipeline(memory=None,\n",
            "         steps=[('functiontransformer',\n",
            "                 FunctionTransformer(accept_sparse=False, check_inverse=True,\n",
            "                                     func=<function wrangle_data at 0x7f36ffdf79d8>,\n",
            "                                     inv_kw_args=None, inverse_func=None,\n",
            "                                     kw_args=None, validate=False)),\n",
            "                ('ordinalencoder',\n",
            "                 OrdinalEncoder(cols=['funder', 'installer', 'wpt_name',\n",
            "                                      'basin', 'subvillage', 'region', 'lga',\n",
            "                                      'ward', 'public_meeting',...\n",
            "                 RandomForestClassifier(bootstrap=True, ccp_alpha=0.0,\n",
            "                                        class_weight=None, criterion='entropy',\n",
            "                                        max_depth=20, max_features=0.25,\n",
            "                                        max_leaf_nodes=None, max_samples=None,\n",
            "                                        min_impurity_decrease=0.0,\n",
            "                                        min_impurity_split=None,\n",
            "                                        min_samples_leaf=2, min_samples_split=2,\n",
            "                                        min_weight_fraction_leaf=0.0,\n",
            "                                        n_estimators=300, n_jobs=None,\n",
            "                                        oob_score=False, random_state=42,\n",
            "                                        verbose=0, warm_start=False))],\n",
            "         verbose=False)\n"
          ],
          "name": "stdout"
        }
      ]
    },
    {
      "cell_type": "code",
      "metadata": {
        "id": "71Sakr45fi4-"
      },
      "source": [
        ""
      ],
      "execution_count": null,
      "outputs": []
    }
  ]
}